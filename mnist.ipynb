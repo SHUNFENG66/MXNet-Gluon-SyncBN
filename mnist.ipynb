{
 "cells": [
  {
   "cell_type": "markdown",
   "metadata": {},
   "source": [
    "# MXNet-Gluon-SyncBN\n",
    "Example on training MNIST, adapted from the [tutorial](http://gluon.mxnet.io/chapter04_convolutional-neural-networks/cnn-gluon.html)."
   ]
  },
  {
   "cell_type": "markdown",
   "metadata": {},
   "source": [
    "### Import SyncBN and other dependencies"
   ]
  },
  {
   "cell_type": "code",
   "execution_count": 2,
   "metadata": {},
   "outputs": [],
   "source": [
    "from __future__ import print_function\n",
    "import numpy as np\n",
    "import mxnet as mx\n",
    "from mxnet import nd, autograd, gluon\n",
    "from syncbn import BatchNorm, ModelDataParallel\n",
    "mx.random.seed(1)"
   ]
  },
  {
   "cell_type": "markdown",
   "metadata": {},
   "source": [
    "### Set the contexts (suppose using 4 GPUs)"
   ]
  },
  {
   "cell_type": "code",
   "execution_count": 3,
   "metadata": {},
   "outputs": [],
   "source": [
    "nGPUs = 4\n",
    "ctx_list = [mx.gpu(i) for i in range(nGPUs)]"
   ]
  },
  {
   "cell_type": "markdown",
   "metadata": {},
   "source": [
    "### Grab the MNIST dataset"
   ]
  },
  {
   "cell_type": "code",
   "execution_count": 4,
   "metadata": {},
   "outputs": [],
   "source": [
    "batch_size = 128\n",
    "num_outputs = 10\n",
    "def transform(data, label):\n",
    "    return nd.transpose(data.astype(np.float32), (2,0,1))/255, label.astype(np.float32)\n",
    "train_data = gluon.data.DataLoader(gluon.data.vision.MNIST(train=True, transform=transform),\n",
    "                                   batch_size, shuffle=True, last_batch='rollover',\n",
    "                                   num_workers=4)\n",
    "test_data = gluon.data.DataLoader(gluon.data.vision.MNIST(train=False, transform=transform),\n",
    "                                     batch_size, shuffle=False, num_workers=4)"
   ]
  },
  {
   "cell_type": "markdown",
   "metadata": {},
   "source": [
    "### Define a convolutional neural network"
   ]
  },
  {
   "cell_type": "code",
   "execution_count": 5,
   "metadata": {},
   "outputs": [],
   "source": [
    "num_fc = 512\n",
    "net = gluon.nn.Sequential()\n",
    "with net.name_scope():\n",
    "    net.add(gluon.nn.Conv2D(in_channels=1, channels=20, kernel_size=5))\n",
    "    net.add(BatchNorm(in_channels=20, nGPUs=nGPUs))\n",
    "    net.add(gluon.nn.Activation('relu'))\n",
    "    net.add(gluon.nn.MaxPool2D(pool_size=2, strides=2))\n",
    "    net.add(gluon.nn.Conv2D(in_channels=20, channels=50, kernel_size=5))\n",
    "    net.add(BatchNorm(in_channels=50, nGPUs=nGPUs))\n",
    "    net.add(gluon.nn.Activation('relu'))\n",
    "    net.add(gluon.nn.MaxPool2D(pool_size=2, strides=2))\n",
    "    # The Flatten layer collapses all axis, except the first one, into one axis.\n",
    "    net.add(gluon.nn.Flatten())\n",
    "    net.add(gluon.nn.Dense(num_fc,in_units=800))\n",
    "    net.add(gluon.nn.Activation('relu'))\n",
    "    net.add(gluon.nn.Dense(num_outputs, in_units=num_fc))"
   ]
  },
  {
   "cell_type": "markdown",
   "metadata": {},
   "source": [
    "### Initializae the model wieghts and get Parallel mode"
   ]
  },
  {
   "cell_type": "code",
   "execution_count": 6,
   "metadata": {},
   "outputs": [
    {
     "name": "stdout",
     "output_type": "stream",
     "text": [
      "ModelDataParallel(\n",
      "  (module): Sequential(\n",
      "    (0): Conv2D(1 -> 20, kernel_size=(5, 5), stride=(1, 1))\n",
      "    (1): BatchNorm(eps=1e-05, momentum=0.9, fix_gamma=False, in_channels=20)\n",
      "    (2): Activation(relu)\n",
      "    (3): MaxPool2D(size=(2, 2), stride=(2, 2), padding=(0, 0), ceil_mode=False)\n",
      "    (4): Conv2D(20 -> 50, kernel_size=(5, 5), stride=(1, 1))\n",
      "    (5): BatchNorm(eps=1e-05, momentum=0.9, fix_gamma=False, in_channels=50)\n",
      "    (6): Activation(relu)\n",
      "    (7): MaxPool2D(size=(2, 2), stride=(2, 2), padding=(0, 0), ceil_mode=False)\n",
      "    (8): Flatten\n",
      "    (9): Dense(800 -> 512, linear)\n",
      "    (10): Activation(relu)\n",
      "    (11): Dense(512 -> 10, linear)\n",
      "  )\n",
      ")\n"
     ]
    }
   ],
   "source": [
    "net.collect_params().initialize(mx.init.Xavier(magnitude=2.24))\n",
    "net = ModelDataParallel(net, ctx_list)\n",
    "print(net)"
   ]
  },
  {
   "cell_type": "markdown",
   "metadata": {},
   "source": [
    "### Softmax cross-entropy Loss and Optimizer"
   ]
  },
  {
   "cell_type": "code",
   "execution_count": 7,
   "metadata": {},
   "outputs": [],
   "source": [
    "softmax_cross_entropy = gluon.loss.SoftmaxCrossEntropyLoss()\n",
    "trainer = gluon.Trainer(net.collect_params(), 'sgd', {'learning_rate': .01})"
   ]
  },
  {
   "cell_type": "markdown",
   "metadata": {},
   "source": [
    "### Write evaluation loop to calculate accuracy"
   ]
  },
  {
   "cell_type": "code",
   "execution_count": 8,
   "metadata": {},
   "outputs": [],
   "source": [
    "def evaluate_accuracy(data_iterator, net):\n",
    "    acc = mx.metric.Accuracy()\n",
    "    for i, (data, label) in enumerate(data_iterator):\n",
    "        data = gluon.utils.split_and_load(data, ctx_list=ctx_list)\n",
    "        label = gluon.utils.split_and_load(label, ctx_list=ctx_list)\n",
    "        outputs = net(data)\n",
    "        predictions = []\n",
    "        for i, output in enumerate(outputs):\n",
    "            pred = nd.argmax(output, axis=1)\n",
    "            acc.update(preds=pred, labels=label[i])\n",
    "    return acc.get()[1]"
   ]
  },
  {
   "cell_type": "markdown",
   "metadata": {},
   "source": [
    "### Training Loop"
   ]
  },
  {
   "cell_type": "code",
   "execution_count": 9,
   "metadata": {},
   "outputs": [
    {
     "name": "stdout",
     "output_type": "stream",
     "text": [
      "Epoch 0. Loss: 2.046051726989087, Train_acc 0.8688199626865671, Test_acc 0.8723\n"
     ]
    }
   ],
   "source": [
    "epochs = 1\n",
    "smoothing_constant = .01\n",
    "\n",
    "for e in range(epochs):\n",
    "    for i, (data, label) in enumerate(train_data):\n",
    "        data = gluon.utils.split_and_load(data, ctx_list=ctx_list)\n",
    "        label = gluon.utils.split_and_load(label, ctx_list=ctx_list)\n",
    "        with autograd.record():\n",
    "            output = net(data)\n",
    "            losses = [softmax_cross_entropy(yhat, y) for yhat, y in zip(output, label)]\n",
    "            autograd.backward(losses)\n",
    "        loss = 0\n",
    "        for l in losses:\n",
    "            loss += l.as_in_context(mx.gpu(0))\n",
    "        trainer.step(len(data)*data[0].shape[0])\n",
    "        ##########################\n",
    "        #  Keep a moving average of the losses\n",
    "        ##########################\n",
    "        curr_loss = nd.mean(loss).asscalar()\n",
    "        moving_loss = (curr_loss if ((i == 0) and (e == 0))\n",
    "                       else (1 - smoothing_constant) * moving_loss + smoothing_constant * curr_loss)\n",
    "\n",
    "    test_accuracy = evaluate_accuracy(test_data, net)\n",
    "    train_accuracy = evaluate_accuracy(train_data, net)\n",
    "    print(\"Epoch %s. Loss: %s, Train_acc %s, Test_acc %s\" % (e, moving_loss, train_accuracy, test_accuracy))"
   ]
  },
  {
   "cell_type": "code",
   "execution_count": null,
   "metadata": {},
   "outputs": [],
   "source": []
  }
 ],
 "metadata": {
  "kernelspec": {
   "display_name": "Python 3",
   "language": "python",
   "name": "python3"
  },
  "language_info": {
   "codemirror_mode": {
    "name": "ipython",
    "version": 3
   },
   "file_extension": ".py",
   "mimetype": "text/x-python",
   "name": "python",
   "nbconvert_exporter": "python",
   "pygments_lexer": "ipython3",
   "version": "3.6.3"
  }
 },
 "nbformat": 4,
 "nbformat_minor": 2
}
